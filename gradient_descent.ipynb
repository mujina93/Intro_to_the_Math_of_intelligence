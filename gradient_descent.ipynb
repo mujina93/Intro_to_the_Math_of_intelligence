{
 "cells": [
  {
   "cell_type": "markdown",
   "metadata": {},
   "source": [
    "# The Math of Intelligence - 1 - Gradient Descent"
   ]
  },
  {
   "cell_type": "raw",
   "metadata": {},
   "source": [
    "Find linear trend in data using gradient descent."
   ]
  },
  {
   "cell_type": "code",
   "execution_count": 3,
   "metadata": {
    "collapsed": true
   },
   "outputs": [],
   "source": [
    "# dependencies\n",
    "from numpy import *"
   ]
  },
  {
   "cell_type": "code",
   "execution_count": 4,
   "metadata": {
    "collapsed": true
   },
   "outputs": [],
   "source": [
    "# function for computing MSE\n",
    "# takes x,y data (2 columns of data)\n",
    "# and m, b of line y = m*x + b\n",
    "# and computes MSE (L2 distance between them)\n",
    "def MSE(b, m, data):\n",
    "    mse = 0\n",
    "    N = len(data)\n",
    "    for i in range(N):\n",
    "        x = data[i,0]\n",
    "        y = data[i,1]\n",
    "        mse += (y - (m*x - b))**2\n",
    "    return mse/N"
   ]
  },
  {
   "cell_type": "code",
   "execution_count": 36,
   "metadata": {
    "collapsed": true
   },
   "outputs": [],
   "source": [
    "# function for gradient descent update\n",
    "# takes old b, m and updates them according to gradient\n",
    "def gradUP(b_old, m_old, data, learningRate):\n",
    "    b_gradient = 0\n",
    "    m_gradient = 0\n",
    "    N = len(data)\n",
    "    for i in range(N):\n",
    "        x = data[i,0]\n",
    "        y = data[i,1]\n",
    "        b_gradient += - (y - (m_old*x - b_old))\n",
    "        m_gradient += - x*(y - (m_old*x - b_old))\n",
    "    b_gradient = b_gradient * 2/N\n",
    "    m_gradient = m_gradient * 2/N\n",
    "    b_new = b_old - learningRate*b_gradient\n",
    "    m_new = m_old - learningRate*m_gradient\n",
    "    return [b_new, m_new]"
   ]
  },
  {
   "cell_type": "code",
   "execution_count": 6,
   "metadata": {
    "collapsed": true
   },
   "outputs": [],
   "source": [
    "# gradient descent runner\n",
    "# performs gradient descent on b, m, until max_iterations\n",
    "def gradientDescent(data, b_initial, m_initial, learningRate, max_iterations):\n",
    "    b = b_initial\n",
    "    m = m_initial\n",
    "    for i in range(max_iterations):\n",
    "        [b, m] = gradUP(b, m, data, learningRate)\n",
    "    return [b, m]"
   ]
  },
  {
   "cell_type": "code",
   "execution_count": 28,
   "metadata": {
    "collapsed": true
   },
   "outputs": [],
   "source": [
    "# import and choose data\n",
    "def importdat(data_name, delimiter=\",\"):\n",
    "    data = genfromtxt(data_name, delimiter = delimiter, names = True)\n",
    "    print(\"Which variables are you interested in?\")\n",
    "    for i in range(len(data[1])):\n",
    "        if isnan(data[1][i])==False:\n",
    "            print(\"{}\".format(data.dtype.names[i]), end=\", \")\n",
    "    print(\"\")\n",
    "    varX = input(\"X variable << \")\n",
    "    varY = input(\"Y variable << \")\n",
    "    filtereddata = data[[varX, varY]].view(float).reshape(data[[varX,varY]].shape + (-1,))\n",
    "    return filtereddata"
   ]
  },
  {
   "cell_type": "code",
   "execution_count": 25,
   "metadata": {
    "collapsed": true
   },
   "outputs": [],
   "source": [
    "# import data\n",
    "def run(data_name, delimiter=\",\"):\n",
    "    data = importdat(data_name, delimiter = delimiter)\n",
    "    learningRate = 0.0001\n",
    "    initial_b = 0\n",
    "    initial_m = 0\n",
    "    max_iterations = 1000\n",
    "    print(\"Starting gradient descent with y = {0}*x + {1}. \\\n",
    "            Mean Square Error: {2}\".format(initial_m, initial_b, MSE(initial_b, initial_m, data)))\n",
    "    print(\"Running...\")\n",
    "    [b, m] = gradientDescent(data, initial_b, initial_m, learningRate, max_iterations)\n",
    "    print(\"After {0} iterations: b = {1}, m = {2}. Error: {3}\".format(max_iterations, b, m, MSE(b, m, data)))"
   ]
  },
  {
   "cell_type": "code",
   "execution_count": 41,
   "metadata": {
    "scrolled": true
   },
   "outputs": [
    {
     "name": "stdout",
     "output_type": "stream",
     "text": [
      "Which variables are you interested in?\n",
      "id, Total, HP, Attack, Defense, Sp_Atk, Sp_Def, Speed, Generation, \n",
      "X variable << Attack\n",
      "Y variable << Defense\n"
     ]
    },
    {
     "name": "stderr",
     "output_type": "stream",
     "text": [
      "/usr/local/lib/python3.5/dist-packages/ipykernel_launcher.py:11: FutureWarning: Numpy has detected that you may be viewing or writing to an array returned by selecting multiple fields in a structured array. \n",
      "\n",
      "This code may break in numpy 1.13 because this will return a view instead of a copy -- see release notes for details.\n",
      "  # This is added back by InteractiveShellApp.init_path()\n"
     ]
    },
    {
     "name": "stdout",
     "output_type": "stream",
     "text": [
      "Starting gradient descent with y = 0*x + 0.             Mean Square Error: 6423.91\n",
      "Running...\n",
      "After 1000 iterations: b = 1.1966158072044095, m = 0.873612822794414. Error: 1035.661445623254\n"
     ]
    }
   ],
   "source": [
    "# main\n",
    "if __name__ == '__main__':\n",
    "    run(\"Pokemon.csv\")"
   ]
  }
 ],
 "metadata": {
  "kernelspec": {
   "display_name": "Python 3",
   "language": "python",
   "name": "python3"
  },
  "language_info": {
   "codemirror_mode": {
    "name": "ipython",
    "version": 3
   },
   "file_extension": ".py",
   "mimetype": "text/x-python",
   "name": "python",
   "nbconvert_exporter": "python",
   "pygments_lexer": "ipython3",
   "version": "3.5.2"
  }
 },
 "nbformat": 4,
 "nbformat_minor": 2
}
